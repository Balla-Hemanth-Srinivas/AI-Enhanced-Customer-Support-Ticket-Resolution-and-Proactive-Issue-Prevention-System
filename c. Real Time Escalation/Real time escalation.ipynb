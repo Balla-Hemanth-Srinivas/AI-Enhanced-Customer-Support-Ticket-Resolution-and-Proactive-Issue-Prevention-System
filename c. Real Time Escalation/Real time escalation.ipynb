{
 "cells": [
  {
   "cell_type": "code",
   "execution_count": 1,
   "metadata": {},
   "outputs": [],
   "source": [
    "import pandas as pd"
   ]
  },
  {
   "cell_type": "code",
   "execution_count": 2,
   "metadata": {},
   "outputs": [],
   "source": [
    "dataset = pd.read_csv('C:/Users/bhema/OneDrive/Desktop/Customer Support Ticket - ML project/customerSupportTickets/FolderStructure/rough/1. Analysis/1. Response Prediction Dataset/dataset-tickets-multi-lang3-4k.csv')"
   ]
  },
  {
   "cell_type": "code",
   "execution_count": 3,
   "metadata": {},
   "outputs": [],
   "source": [
    "df_en = dataset[dataset['language'].eq(\"en\")]"
   ]
  },
  {
   "cell_type": "code",
   "execution_count": 4,
   "metadata": {},
   "outputs": [
    {
     "data": {
      "text/plain": [
       "1391"
      ]
     },
     "execution_count": 4,
     "metadata": {},
     "output_type": "execute_result"
    }
   ],
   "source": [
    "df_en.shape[0]"
   ]
  },
  {
   "cell_type": "code",
   "execution_count": 5,
   "metadata": {},
   "outputs": [
    {
     "data": {
      "text/plain": [
       "0.42774982027318476"
      ]
     },
     "execution_count": 5,
     "metadata": {},
     "output_type": "execute_result"
    }
   ],
   "source": [
    "df_en.loc[df_en[\"priority\"].eq(\"high\"), :].shape[0] / df_en.shape[0]"
   ]
  },
  {
   "cell_type": "code",
   "execution_count": 6,
   "metadata": {},
   "outputs": [
    {
     "name": "stdout",
     "output_type": "stream",
     "text": [
      "[('Support', 1803), ('Technical', 1077), ('Issue', 708), ('Product', 540), ('Service', 398), ('Urgent', 390), ('IT', 284), ('Software', 251), ('Bug', 251), ('Failure', 185), ('Hardware', 183), ('Customer', 173), ('Disruption', 152), ('Problem', 143), ('Resolution', 143), ('Network', 143), ('Billing', 127), ('Account', 94), ('Inquiry', 91), ('Assistance', 89), ('Guidance', 86), ('Performance', 86), ('Tuning', 86), ('Returns', 78), ('and', 78), ('Exchanges', 78), ('Request', 59), ('System', 59), ('Outage', 55), ('General', 51), ('Sales', 39), ('Maintenance', 33), ('Payment', 29), ('Processing', 29), ('Refund', 28), ('Warranty', 27), ('Claim', 27), ('Crash', 27), ('Feature', 26), ('Incident', 25), ('Report', 25), ('Order', 23), ('Login', 17), ('Notification', 13), ('Replacement', 13), ('Recovery', 8), ('Delay', 7), ('Shipment', 6), ('Security', 6), ('Human', 5), ('Resources', 5), ('Cloud', 4), ('Services', 4), ('Feedback', 4), ('Printer', 4), ('Database', 4), ('Shipping', 3), ('Wireless', 3), ('Connectivity', 3), ('Setup', 3), ('Data', 2), ('Breach', 2), ('Documentation', 2), ('Critical', 2), ('Wi-Fi', 2), ('Password', 2), ('Reset', 2), ('Planned', 2), ('Change', 2), ('Budget', 1), ('Management', 1), ('Routine', 1), ('Options', 1), ('Training', 1), ('Virus', 1), ('Removal', 1), ('Backup', 1), ('Restore', 1), ('Optimization', 1), ('Infrastructure', 1), ('Payroll', 1), ('Consultation', 1), ('Email', 1), ('Access', 1), ('Consulting', 1)]\n"
     ]
    }
   ],
   "source": [
    "# prompt: combine all tags columns from 1 to 9, and get value counts for most occuring words in this column after splitting and combining all lists\n",
    "\n",
    "# Combine tags from tag_1 to tag_9\n",
    "all_tags = []\n",
    "for index, row in df_en.iterrows():\n",
    "    tags = []\n",
    "    for i in range(1, 4):  # Iterate through tag_1 to tag_3\n",
    "        tag_value = row[f\"tag_{i}\"]\n",
    "        if pd.notna(tag_value) and tag_value != '':\n",
    "            tags.extend(str(tag_value).split())\n",
    "    all_tags.extend(tags)\n",
    "\n",
    "# Calculate value counts for the combined tags\n",
    "from collections import Counter\n",
    "tag_counts = Counter(all_tags)\n",
    "print(tag_counts.most_common(100)) # Print the 10 most common words"
   ]
  },
  {
   "cell_type": "code",
   "execution_count": 7,
   "metadata": {},
   "outputs": [],
   "source": [
    "# Disruption, Failure, Outage, Incident, Crash, Breach, Critical\n",
    "# Urgent"
   ]
  },
  {
   "cell_type": "code",
   "execution_count": 8,
   "metadata": {},
   "outputs": [],
   "source": [
    "def should_escalate(incoming_issue):\n",
    "    if incoming_issue[\"priority\"] == \"high\":\n",
    "        tags_combined = \" \".join([incoming_issue[f\"tag_{i+1}\"] for i in range(0, 9)])\n",
    "        for key in [\"Disruption\", \"Failure\", \"Outage\", \"Incident\", \"Crash\", \"Breach\", \"Critical\"]:\n",
    "            if key.lower() in tags_combined.lower():\n",
    "                return \"VERY_HIGH\"\n",
    "\n",
    "        for key in [\"{NEW_KEYWORDS}\"]:\n",
    "            if key.lower() in tags_combined.lower():\n",
    "                return \"HIGH\"\n",
    "\n",
    "    return False"
   ]
  }
 ],
 "metadata": {
  "kernelspec": {
   "display_name": "base",
   "language": "python",
   "name": "python3"
  },
  "language_info": {
   "codemirror_mode": {
    "name": "ipython",
    "version": 3
   },
   "file_extension": ".py",
   "mimetype": "text/x-python",
   "name": "python",
   "nbconvert_exporter": "python",
   "pygments_lexer": "ipython3",
   "version": "3.11.7"
  }
 },
 "nbformat": 4,
 "nbformat_minor": 2
}
