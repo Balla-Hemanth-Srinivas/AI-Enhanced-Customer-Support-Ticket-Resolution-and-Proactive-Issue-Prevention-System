{
  "cells": [
    {
      "cell_type": "markdown",
      "metadata": {
        "id": "fF05WUUh4IpY"
      },
      "source": [
        "# Sentiment Analyis Dataset"
      ]
    },
    {
      "cell_type": "code",
      "execution_count": 1,
      "metadata": {
        "colab": {
          "base_uri": "https://localhost:8080/"
        },
        "id": "Y8a9zoRJ4jy_",
        "outputId": "0b1f002e-80ed-4615-95e6-9b7c9e6735cb"
      },
      "outputs": [
        {
          "name": "stdout",
          "output_type": "stream",
          "text": [
            "Requirement already satisfied: datasets in c:\\users\\bhema\\anaconda3\\lib\\site-packages (3.2.0)\n",
            "Requirement already satisfied: filelock in c:\\users\\bhema\\anaconda3\\lib\\site-packages (from datasets) (3.13.1)\n",
            "Requirement already satisfied: numpy>=1.17 in c:\\users\\bhema\\anaconda3\\lib\\site-packages (from datasets) (1.26.4)\n",
            "Requirement already satisfied: pyarrow>=15.0.0 in c:\\users\\bhema\\anaconda3\\lib\\site-packages (from datasets) (18.1.0)\n",
            "Requirement already satisfied: dill<0.3.9,>=0.3.0 in c:\\users\\bhema\\anaconda3\\lib\\site-packages (from datasets) (0.3.8)\n",
            "Requirement already satisfied: pandas in c:\\users\\bhema\\anaconda3\\lib\\site-packages (from datasets) (2.1.4)\n",
            "Requirement already satisfied: requests>=2.32.2 in c:\\users\\bhema\\anaconda3\\lib\\site-packages (from datasets) (2.32.3)\n",
            "Requirement already satisfied: tqdm>=4.66.3 in c:\\users\\bhema\\anaconda3\\lib\\site-packages (from datasets) (4.67.1)\n",
            "Requirement already satisfied: xxhash in c:\\users\\bhema\\anaconda3\\lib\\site-packages (from datasets) (3.5.0)\n",
            "Requirement already satisfied: multiprocess<0.70.17 in c:\\users\\bhema\\anaconda3\\lib\\site-packages (from datasets) (0.70.16)\n",
            "Requirement already satisfied: fsspec<=2024.9.0,>=2023.1.0 in c:\\users\\bhema\\anaconda3\\lib\\site-packages (from fsspec[http]<=2024.9.0,>=2023.1.0->datasets) (2023.10.0)\n",
            "Requirement already satisfied: aiohttp in c:\\users\\bhema\\anaconda3\\lib\\site-packages (from datasets) (3.9.3)\n",
            "Requirement already satisfied: huggingface-hub>=0.23.0 in c:\\users\\bhema\\anaconda3\\lib\\site-packages (from datasets) (0.27.0)\n",
            "Requirement already satisfied: packaging in c:\\users\\bhema\\anaconda3\\lib\\site-packages (from datasets) (23.1)\n",
            "Requirement already satisfied: pyyaml>=5.1 in c:\\users\\bhema\\anaconda3\\lib\\site-packages (from datasets) (6.0.1)\n",
            "Requirement already satisfied: aiosignal>=1.1.2 in c:\\users\\bhema\\anaconda3\\lib\\site-packages (from aiohttp->datasets) (1.2.0)\n",
            "Requirement already satisfied: attrs>=17.3.0 in c:\\users\\bhema\\anaconda3\\lib\\site-packages (from aiohttp->datasets) (23.1.0)\n",
            "Requirement already satisfied: frozenlist>=1.1.1 in c:\\users\\bhema\\anaconda3\\lib\\site-packages (from aiohttp->datasets) (1.4.0)\n",
            "Requirement already satisfied: multidict<7.0,>=4.5 in c:\\users\\bhema\\anaconda3\\lib\\site-packages (from aiohttp->datasets) (6.0.4)\n",
            "Requirement already satisfied: yarl<2.0,>=1.0 in c:\\users\\bhema\\anaconda3\\lib\\site-packages (from aiohttp->datasets) (1.9.3)\n",
            "Requirement already satisfied: typing-extensions>=3.7.4.3 in c:\\users\\bhema\\anaconda3\\lib\\site-packages (from huggingface-hub>=0.23.0->datasets) (4.9.0)\n",
            "Requirement already satisfied: charset-normalizer<4,>=2 in c:\\users\\bhema\\anaconda3\\lib\\site-packages (from requests>=2.32.2->datasets) (2.0.4)\n",
            "Requirement already satisfied: idna<4,>=2.5 in c:\\users\\bhema\\anaconda3\\lib\\site-packages (from requests>=2.32.2->datasets) (3.4)\n",
            "Requirement already satisfied: urllib3<3,>=1.21.1 in c:\\users\\bhema\\anaconda3\\lib\\site-packages (from requests>=2.32.2->datasets) (2.0.7)\n",
            "Requirement already satisfied: certifi>=2017.4.17 in c:\\users\\bhema\\anaconda3\\lib\\site-packages (from requests>=2.32.2->datasets) (2024.2.2)\n",
            "Requirement already satisfied: colorama in c:\\users\\bhema\\anaconda3\\lib\\site-packages (from tqdm>=4.66.3->datasets) (0.4.6)\n",
            "Requirement already satisfied: python-dateutil>=2.8.2 in c:\\users\\bhema\\anaconda3\\lib\\site-packages (from pandas->datasets) (2.8.2)\n",
            "Requirement already satisfied: pytz>=2020.1 in c:\\users\\bhema\\anaconda3\\lib\\site-packages (from pandas->datasets) (2023.3.post1)\n",
            "Requirement already satisfied: tzdata>=2022.1 in c:\\users\\bhema\\anaconda3\\lib\\site-packages (from pandas->datasets) (2023.3)\n",
            "Requirement already satisfied: six>=1.5 in c:\\users\\bhema\\anaconda3\\lib\\site-packages (from python-dateutil>=2.8.2->pandas->datasets) (1.16.0)\n"
          ]
        }
      ],
      "source": [
        "!pip install datasets"
      ]
    },
    {
      "cell_type": "code",
      "execution_count": 2,
      "metadata": {
        "id": "i-HLrn2I4UXM"
      },
      "outputs": [],
      "source": [
        "import pandas as pd"
      ]
    },
    {
      "cell_type": "code",
      "execution_count": 3,
      "metadata": {
        "id": "B2cyqINZ4Re-"
      },
      "outputs": [],
      "source": [
        "from datasets import load_dataset\n",
        "ds = load_dataset(\"NebulaByte/E-Commerce_Customer_Support_Conversations\")"
      ]
    },
    {
      "cell_type": "code",
      "execution_count": 4,
      "metadata": {
        "colab": {
          "base_uri": "https://localhost:8080/"
        },
        "id": "ker2NK7i6Ikv",
        "outputId": "efa92167-f862-4b1b-dae4-08239caf8cba"
      },
      "outputs": [
        {
          "name": "stdout",
          "output_type": "stream",
          "text": [
            "DatasetDict({\n",
            "    train: Dataset({\n",
            "        features: ['issue_area', 'issue_category', 'issue_sub_category', 'issue_category_sub_category', 'customer_sentiment', 'product_category', 'product_sub_category', 'issue_complexity', 'agent_experience_level', 'agent_experience_level_desc', 'conversation'],\n",
            "        num_rows: 1000\n",
            "    })\n",
            "})\n"
          ]
        }
      ],
      "source": [
        "print(ds)"
      ]
    },
    {
      "cell_type": "code",
      "execution_count": 5,
      "metadata": {
        "colab": {
          "base_uri": "https://localhost:8080/",
          "height": 504
        },
        "id": "d4pcm_gl4_OS",
        "outputId": "45060734-419d-480a-a949-bd6900c76649"
      },
      "outputs": [
        {
          "data": {
            "text/html": [
              "<div>\n",
              "<style scoped>\n",
              "    .dataframe tbody tr th:only-of-type {\n",
              "        vertical-align: middle;\n",
              "    }\n",
              "\n",
              "    .dataframe tbody tr th {\n",
              "        vertical-align: top;\n",
              "    }\n",
              "\n",
              "    .dataframe thead th {\n",
              "        text-align: right;\n",
              "    }\n",
              "</style>\n",
              "<table border=\"1\" class=\"dataframe\">\n",
              "  <thead>\n",
              "    <tr style=\"text-align: right;\">\n",
              "      <th></th>\n",
              "      <th>issue_area</th>\n",
              "      <th>issue_category</th>\n",
              "      <th>issue_sub_category</th>\n",
              "      <th>issue_category_sub_category</th>\n",
              "      <th>customer_sentiment</th>\n",
              "      <th>product_category</th>\n",
              "      <th>product_sub_category</th>\n",
              "      <th>issue_complexity</th>\n",
              "      <th>agent_experience_level</th>\n",
              "      <th>agent_experience_level_desc</th>\n",
              "      <th>conversation</th>\n",
              "    </tr>\n",
              "  </thead>\n",
              "  <tbody>\n",
              "    <tr>\n",
              "      <th>0</th>\n",
              "      <td>Login and Account</td>\n",
              "      <td>Mobile Number and Email Verification</td>\n",
              "      <td>Verification requirement for mobile number or ...</td>\n",
              "      <td>Mobile Number and Email Verification -&gt; Verifi...</td>\n",
              "      <td>neutral</td>\n",
              "      <td>Appliances</td>\n",
              "      <td>Oven Toaster Grills (OTG)</td>\n",
              "      <td>medium</td>\n",
              "      <td>junior</td>\n",
              "      <td>handles customer inquiries independently, poss...</td>\n",
              "      <td>Agent: Thank you for calling BrownBox Customer...</td>\n",
              "    </tr>\n",
              "    <tr>\n",
              "      <th>1</th>\n",
              "      <td>Cancellations and returns</td>\n",
              "      <td>Pickup and Shipping</td>\n",
              "      <td>Reasons for being asked to ship the item</td>\n",
              "      <td>Pickup and Shipping -&gt; Reasons for being asked...</td>\n",
              "      <td>neutral</td>\n",
              "      <td>Electronics</td>\n",
              "      <td>Computer Monitor</td>\n",
              "      <td>less</td>\n",
              "      <td>junior</td>\n",
              "      <td>handles customer inquiries independently, poss...</td>\n",
              "      <td>Agent: Thank you for calling BrownBox customer...</td>\n",
              "    </tr>\n",
              "    <tr>\n",
              "      <th>2</th>\n",
              "      <td>Cancellations and returns</td>\n",
              "      <td>Replacement and Return Process</td>\n",
              "      <td>Inability to click the 'Cancel' button</td>\n",
              "      <td>Replacement and Return Process -&gt; Inability to...</td>\n",
              "      <td>neutral</td>\n",
              "      <td>Appliances</td>\n",
              "      <td>Juicer/Mixer/Grinder</td>\n",
              "      <td>medium</td>\n",
              "      <td>experienced</td>\n",
              "      <td>confidently handles complex customer issues, e...</td>\n",
              "      <td>Agent: Thank you for calling BrownBox Customer...</td>\n",
              "    </tr>\n",
              "    <tr>\n",
              "      <th>3</th>\n",
              "      <td>Login and Account</td>\n",
              "      <td>Login Issues and Error Messages</td>\n",
              "      <td>Error message regarding exceeded attempts to e...</td>\n",
              "      <td>Login Issues and Error Messages -&gt; Error messa...</td>\n",
              "      <td>neutral</td>\n",
              "      <td>Appliances</td>\n",
              "      <td>Water Purifier</td>\n",
              "      <td>less</td>\n",
              "      <td>inexperienced</td>\n",
              "      <td>may struggle with ambiguous queries, rely on c...</td>\n",
              "      <td>Customer: Hi, I am facing an issue while loggi...</td>\n",
              "    </tr>\n",
              "    <tr>\n",
              "      <th>4</th>\n",
              "      <td>Order</td>\n",
              "      <td>Order Delivery Issues</td>\n",
              "      <td>Delivery not attempted again</td>\n",
              "      <td>Order Delivery Issues -&gt; Delivery not attempte...</td>\n",
              "      <td>negative</td>\n",
              "      <td>Electronics</td>\n",
              "      <td>Bp Monitor</td>\n",
              "      <td>medium</td>\n",
              "      <td>experienced</td>\n",
              "      <td>confidently handles complex customer issues, e...</td>\n",
              "      <td>Agent: Thank you for contacting BrownBox custo...</td>\n",
              "    </tr>\n",
              "  </tbody>\n",
              "</table>\n",
              "</div>"
            ],
            "text/plain": [
              "                  issue_area                        issue_category  \\\n",
              "0          Login and Account  Mobile Number and Email Verification   \n",
              "1  Cancellations and returns                   Pickup and Shipping   \n",
              "2  Cancellations and returns        Replacement and Return Process   \n",
              "3          Login and Account       Login Issues and Error Messages   \n",
              "4                      Order                 Order Delivery Issues   \n",
              "\n",
              "                                  issue_sub_category  \\\n",
              "0  Verification requirement for mobile number or ...   \n",
              "1           Reasons for being asked to ship the item   \n",
              "2             Inability to click the 'Cancel' button   \n",
              "3  Error message regarding exceeded attempts to e...   \n",
              "4                       Delivery not attempted again   \n",
              "\n",
              "                         issue_category_sub_category customer_sentiment  \\\n",
              "0  Mobile Number and Email Verification -> Verifi...            neutral   \n",
              "1  Pickup and Shipping -> Reasons for being asked...            neutral   \n",
              "2  Replacement and Return Process -> Inability to...            neutral   \n",
              "3  Login Issues and Error Messages -> Error messa...            neutral   \n",
              "4  Order Delivery Issues -> Delivery not attempte...           negative   \n",
              "\n",
              "  product_category       product_sub_category issue_complexity  \\\n",
              "0       Appliances  Oven Toaster Grills (OTG)           medium   \n",
              "1      Electronics           Computer Monitor             less   \n",
              "2       Appliances       Juicer/Mixer/Grinder           medium   \n",
              "3       Appliances             Water Purifier             less   \n",
              "4      Electronics                 Bp Monitor           medium   \n",
              "\n",
              "  agent_experience_level                        agent_experience_level_desc  \\\n",
              "0                 junior  handles customer inquiries independently, poss...   \n",
              "1                 junior  handles customer inquiries independently, poss...   \n",
              "2            experienced  confidently handles complex customer issues, e...   \n",
              "3          inexperienced  may struggle with ambiguous queries, rely on c...   \n",
              "4            experienced  confidently handles complex customer issues, e...   \n",
              "\n",
              "                                        conversation  \n",
              "0  Agent: Thank you for calling BrownBox Customer...  \n",
              "1  Agent: Thank you for calling BrownBox customer...  \n",
              "2  Agent: Thank you for calling BrownBox Customer...  \n",
              "3  Customer: Hi, I am facing an issue while loggi...  \n",
              "4  Agent: Thank you for contacting BrownBox custo...  "
            ]
          },
          "execution_count": 5,
          "metadata": {},
          "output_type": "execute_result"
        }
      ],
      "source": [
        "dataset = ds['train'].to_pandas()\n",
        "\n",
        "# Display the first few rows of the DataFrame\n",
        "dataset.head(5)"
      ]
    },
    {
      "cell_type": "code",
      "execution_count": 6,
      "metadata": {
        "colab": {
          "base_uri": "https://localhost:8080/"
        },
        "id": "UpupIu7skFiR",
        "outputId": "981c6506-7b05-41cd-c645-27150aa6681a"
      },
      "outputs": [
        {
          "name": "stdout",
          "output_type": "stream",
          "text": [
            "<class 'pandas.core.frame.DataFrame'>\n",
            "RangeIndex: 1000 entries, 0 to 999\n",
            "Data columns (total 11 columns):\n",
            " #   Column                       Non-Null Count  Dtype \n",
            "---  ------                       --------------  ----- \n",
            " 0   issue_area                   1000 non-null   object\n",
            " 1   issue_category               1000 non-null   object\n",
            " 2   issue_sub_category           1000 non-null   object\n",
            " 3   issue_category_sub_category  1000 non-null   object\n",
            " 4   customer_sentiment           1000 non-null   object\n",
            " 5   product_category             1000 non-null   object\n",
            " 6   product_sub_category         1000 non-null   object\n",
            " 7   issue_complexity             1000 non-null   object\n",
            " 8   agent_experience_level       1000 non-null   object\n",
            " 9   agent_experience_level_desc  1000 non-null   object\n",
            " 10  conversation                 1000 non-null   object\n",
            "dtypes: object(11)\n",
            "memory usage: 86.1+ KB\n"
          ]
        }
      ],
      "source": [
        "dataset.info()"
      ]
    },
    {
      "cell_type": "code",
      "execution_count": 7,
      "metadata": {
        "colab": {
          "base_uri": "https://localhost:8080/",
          "height": 303
        },
        "id": "_bw6V9Mkk0AY",
        "outputId": "601874a5-604f-4cd0-b814-1ea1da07c38d"
      },
      "outputs": [
        {
          "data": {
            "text/plain": [
              "issue_area\n",
              "Cancellations and returns    286\n",
              "Order                        270\n",
              "Login and Account            151\n",
              "Shopping                     116\n",
              "Warranty                     105\n",
              "Shipping                      72\n",
              "Name: count, dtype: int64"
            ]
          },
          "execution_count": 7,
          "metadata": {},
          "output_type": "execute_result"
        }
      ],
      "source": [
        "dataset['issue_area'].value_counts()"
      ]
    },
    {
      "cell_type": "code",
      "execution_count": 8,
      "metadata": {
        "colab": {
          "base_uri": "https://localhost:8080/",
          "height": 471
        },
        "id": "TM1W4cvqFaMs",
        "outputId": "281a809e-5029-4d77-b671-ee2ee0b5be05"
      },
      "outputs": [
        {
          "data": {
            "image/png": "[encoded data removed]",
            "text/plain": [
              "<Figure size 1000x600 with 1 Axes>"
            ]
          },
          "metadata": {},
          "output_type": "display_data"
        }
      ],
      "source": [
        "# prompt: a bar graph for 'issue_complexity' and specify the value of the attribute at the top of the bar.\n",
        "\n",
        "import matplotlib.pyplot as plt\n",
        "import seaborn as sns\n",
        "\n",
        "# Calculate the value counts for 'issue_complexity'\n",
        "issue_complexity_counts = dataset['issue_complexity'].value_counts()\n",
        "\n",
        "# Create the bar plot\n",
        "plt.figure(figsize=(10, 6))\n",
        "ax = sns.barplot(x=issue_complexity_counts.index, y=issue_complexity_counts.values)\n",
        "plt.xlabel('Issue Complexity')\n",
        "plt.ylabel('Count')\n",
        "plt.title('Distribution of Issue Complexity')\n",
        "\n",
        "# Annotate each bar with its value\n",
        "for p in ax.patches:\n",
        "    ax.annotate(f'{int(p.get_height())}', (p.get_x() + p.get_width() / 2., p.get_height()),\n",
        "                ha='center', va='center', xytext=(0, 5), textcoords='offset points')\n",
        "\n",
        "plt.show()"
      ]
    },
    {
      "cell_type": "code",
      "execution_count": 9,
      "metadata": {
        "colab": {
          "base_uri": "https://localhost:8080/",
          "height": 209
        },
        "id": "_p2IASvuEqYz",
        "outputId": "6b5390d7-307f-45c7-c723-26d4ab879314"
      },
      "outputs": [
        {
          "data": {
            "text/plain": [
              "agent_experience_level\n",
              "junior           507\n",
              "experienced      348\n",
              "inexperienced    145\n",
              "Name: count, dtype: int64"
            ]
          },
          "execution_count": 9,
          "metadata": {},
          "output_type": "execute_result"
        }
      ],
      "source": [
        "dataset['agent_experience_level'].value_counts()"
      ]
    },
    {
      "cell_type": "code",
      "execution_count": 10,
      "metadata": {
        "colab": {
          "base_uri": "https://localhost:8080/",
          "height": 279
        },
        "id": "ChQ0wCxFE6rx",
        "outputId": "7a48fcf0-1cdf-4f41-8c9a-5a66d5c078a6"
      },
      "outputs": [
        {
          "data": {
            "text/plain": [
              "agent_experience_level_desc\n",
              "handles customer inquiries independently, possess solid troubleshooting skills, and seek guidance from more experienced team members when needed.                                                                                             507\n",
              "confidently handles complex customer issues, excel in de-escalation, and possess the ability to empathize with customers, providing them with effective solutions and support.                                                                348\n",
              "may struggle with ambiguous queries, rely on clarification from customers or guidance from senior team members, find it difficult to de-escalate tense situations, and may rely on predefined steps or escalate to supervisors for support    145\n",
              "Name: count, dtype: int64"
            ]
          },
          "execution_count": 10,
          "metadata": {},
          "output_type": "execute_result"
        }
      ],
      "source": [
        "dataset['agent_experience_level_desc'].value_counts()"
      ]
    },
    {
      "cell_type": "code",
      "execution_count": 11,
      "metadata": {
        "colab": {
          "base_uri": "https://localhost:8080/",
          "height": 241
        },
        "id": "zHy3bedmFEVO",
        "outputId": "81834e16-112b-4190-99d0-7c314f8b8e73"
      },
      "outputs": [
        {
          "data": {
            "text/plain": [
              "customer_sentiment\n",
              "neutral       552\n",
              "negative      316\n",
              "frustrated    105\n",
              "positive       27\n",
              "Name: count, dtype: int64"
            ]
          },
          "execution_count": 11,
          "metadata": {},
          "output_type": "execute_result"
        }
      ],
      "source": [
        "dataset['customer_sentiment'].value_counts()"
      ]
    },
    {
      "cell_type": "code",
      "execution_count": 12,
      "metadata": {
        "id": "CB3-OCD8V-cB"
      },
      "outputs": [],
      "source": [
        "# 'customer_sentiment' vs each level of 'agent_experience_level'"
      ]
    },
    {
      "cell_type": "code",
      "execution_count": 13,
      "metadata": {
        "colab": {
          "base_uri": "https://localhost:8080/",
          "height": 241
        },
        "id": "R0o64XluT74m",
        "outputId": "97fd5a59-8ee7-41ee-c7c1-32d7b346f3e5"
      },
      "outputs": [
        {
          "data": {
            "text/plain": [
              "customer_sentiment\n",
              "neutral       95\n",
              "negative      36\n",
              "frustrated    12\n",
              "positive       2\n",
              "Name: count, dtype: int64"
            ]
          },
          "execution_count": 13,
          "metadata": {},
          "output_type": "execute_result"
        }
      ],
      "source": [
        "dataset.loc[dataset['agent_experience_level'].eq(\"inexperienced\"), 'customer_sentiment'].value_counts()"
      ]
    },
    {
      "cell_type": "code",
      "execution_count": 14,
      "metadata": {
        "colab": {
          "base_uri": "https://localhost:8080/",
          "height": 241
        },
        "id": "ETDRzujtT-X9",
        "outputId": "0dd79863-ecef-4a45-eb94-eb830c2446f0"
      },
      "outputs": [
        {
          "data": {
            "text/plain": [
              "customer_sentiment\n",
              "neutral       266\n",
              "negative      169\n",
              "frustrated     54\n",
              "positive       18\n",
              "Name: count, dtype: int64"
            ]
          },
          "execution_count": 14,
          "metadata": {},
          "output_type": "execute_result"
        }
      ],
      "source": [
        "dataset.loc[dataset['agent_experience_level'].eq(\"junior\"), 'customer_sentiment'].value_counts()"
      ]
    },
    {
      "cell_type": "code",
      "execution_count": 15,
      "metadata": {
        "colab": {
          "base_uri": "https://localhost:8080/",
          "height": 241
        },
        "id": "sItgK-l1VYqH",
        "outputId": "716b3bea-56e3-406c-f1cb-f0ad65f33b36"
      },
      "outputs": [
        {
          "data": {
            "text/plain": [
              "customer_sentiment\n",
              "neutral       191\n",
              "negative      111\n",
              "frustrated     39\n",
              "positive        7\n",
              "Name: count, dtype: int64"
            ]
          },
          "execution_count": 15,
          "metadata": {},
          "output_type": "execute_result"
        }
      ],
      "source": [
        "dataset.loc[dataset['agent_experience_level'].eq(\"experienced\"), 'customer_sentiment'].value_counts()"
      ]
    },
    {
      "cell_type": "code",
      "execution_count": 16,
      "metadata": {
        "colab": {
          "base_uri": "https://localhost:8080/",
          "height": 241
        },
        "id": "RxwIsmWgWNHG",
        "outputId": "5bc989fa-b36c-48b8-a45b-0c9accbfb972"
      },
      "outputs": [
        {
          "data": {
            "text/plain": [
              "customer_sentiment\n",
              "neutral       65.517241\n",
              "negative      24.827586\n",
              "frustrated     8.275862\n",
              "positive       1.379310\n",
              "Name: count, dtype: float64"
            ]
          },
          "execution_count": 16,
          "metadata": {},
          "output_type": "execute_result"
        }
      ],
      "source": [
        "dataset.loc[dataset['agent_experience_level'].eq(\"inexperienced\"), 'customer_sentiment'].value_counts()/dataset.loc[dataset['agent_experience_level'].eq(\"inexperienced\"), 'customer_sentiment'].value_counts().sum()*100"
      ]
    },
    {
      "cell_type": "code",
      "execution_count": 17,
      "metadata": {
        "colab": {
          "base_uri": "https://localhost:8080/",
          "height": 241
        },
        "id": "wEKaZC2lWQlv",
        "outputId": "c343cb11-eb6d-41c4-d512-17ffe01e4a93"
      },
      "outputs": [
        {
          "data": {
            "text/plain": [
              "customer_sentiment\n",
              "neutral       52.465483\n",
              "negative      33.333333\n",
              "frustrated    10.650888\n",
              "positive       3.550296\n",
              "Name: count, dtype: float64"
            ]
          },
          "execution_count": 17,
          "metadata": {},
          "output_type": "execute_result"
        }
      ],
      "source": [
        "dataset.loc[dataset['agent_experience_level'].eq(\"junior\"), 'customer_sentiment'].value_counts()/dataset.loc[dataset['agent_experience_level'].eq(\"junior\"), 'customer_sentiment'].value_counts().sum()*100"
      ]
    },
    {
      "cell_type": "code",
      "execution_count": 18,
      "metadata": {
        "colab": {
          "base_uri": "https://localhost:8080/",
          "height": 241
        },
        "id": "t92cnDGsWWox",
        "outputId": "70a76e86-a875-4ea9-f090-d0e31fa5a502"
      },
      "outputs": [
        {
          "data": {
            "text/plain": [
              "customer_sentiment\n",
              "neutral       54.885057\n",
              "negative      31.896552\n",
              "frustrated    11.206897\n",
              "positive       2.011494\n",
              "Name: count, dtype: float64"
            ]
          },
          "execution_count": 18,
          "metadata": {},
          "output_type": "execute_result"
        }
      ],
      "source": [
        "dataset.loc[dataset['agent_experience_level'].eq(\"experienced\"), 'customer_sentiment'].value_counts()/dataset.loc[dataset['agent_experience_level'].eq(\"experienced\"), 'customer_sentiment'].value_counts().sum()*100"
      ]
    }
  ],
  "metadata": {
    "colab": {
      "provenance": []
    },
    "kernelspec": {
      "display_name": "base",
      "language": "python",
      "name": "python3"
    },
    "language_info": {
      "codemirror_mode": {
        "name": "ipython",
        "version": 3
      },
      "file_extension": ".py",
      "mimetype": "text/x-python",
      "name": "python",
      "nbconvert_exporter": "python",
      "pygments_lexer": "ipython3",
      "version": "3.11.7"
    }
  },
  "nbformat": 4,
  "nbformat_minor": 0
}
